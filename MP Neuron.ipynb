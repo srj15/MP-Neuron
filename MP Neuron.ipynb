{
  "cells": [
    {
      "metadata": {
        "_uuid": "8f2839f25d086af736a60e9eeb907d3b93b6e0e5",
        "_cell_guid": "b1076dfc-b9ad-4769-8c92-a6c4dae69d19",
        "trusted": true
      },
      "cell_type": "code",
      "source": "# This Python 3 environment comes with many helpful analytics libraries installed\n# It is defined by the kaggle/python docker image: https://github.com/kaggle/docker-python\n# For example, here's several helpful packages to load in \n\nimport numpy as np # linear algebra\nimport pandas as pd # data processing, CSV file I/O (e.g. pd.read_csv)\n\n# Input data files are available in the \"../input/\" directory.\n# For example, running this (by clicking run or pressing Shift+Enter) will list the files in the input directory\n\nimport os\nprint(os.listdir(\"../input\"))\n\n# Any results you write to the current directory are saved as output.",
      "execution_count": null,
      "outputs": []
    },
    {
      "metadata": {
        "_cell_guid": "79c7e3d0-c299-4dcb-8224-4455121ee9b0",
        "_uuid": "d629ff2d2480ee46fbb7e2d37f6b5fab8052498a",
        "trusted": true
      },
      "cell_type": "code",
      "source": "import numpy as np\nimport pandas as pd\nimport matplotlib.pyplot as plt\nfrom sklearn.preprocessing import LabelEncoder,MinMaxScaler, StandardScaler\nfrom sklearn.model_selection import train_test_split, ParameterGrid\nfrom sklearn.metrics import accuracy_score, confusion_matrix, mean_squared_error, log_loss\nimport operator\nimport json\nfrom IPython import display\nimport os\nimport warnings\n\nnp.random.seed(0)\nwarnings.filterwarnings(\"ignore\")\nTHRESHOLD = 4",
      "execution_count": null,
      "outputs": []
    },
    {
      "metadata": {
        "trusted": true,
        "_uuid": "0cc89ba6ffbcc57b02f03464001de2e2e096344a"
      },
      "cell_type": "code",
      "source": "# read data from file\ntrain = pd.read_csv(\"../input/train.csv\") \ntest = pd.read_csv(\"../input/test.csv\")\n\n# check the number of features and data points in train\nprint(\"Number of data points in train: %d\" % train.shape[0])\nprint(\"Number of features in train: %d\" % train.shape[1])\n\n# check the number of features and data points in test\nprint(\"Number of data points in test: %d\" % test.shape[0])\nprint(\"Number of features in test: %d\" % test.shape[1])",
      "execution_count": null,
      "outputs": []
    },
    {
      "metadata": {
        "trusted": true,
        "_uuid": "39ca36ee0cd985dc9cedc68be0a79121f418f740"
      },
      "cell_type": "code",
      "source": "def data_clean(data):\n    \n    # Let's first remove all missing value features\n    columns_to_remove = ['Also Known As','Applications','Audio Features','Bezel-less display'\n                         'Browser','Build Material','Co-Processor','Browser'\n                         'Display Colour','Mobile High-Definition Link(MHL)',\n                         'Music', 'Email','Fingerprint Sensor Position',\n                         'Games','HDMI','Heart Rate Monitor','IRIS Scanner', \n                         'Optical Image Stabilisation','Other Facilities',\n                         'Phone Book','Physical Aperture','Quick Charging',\n                         'Ring Tone','Ruggedness','SAR Value','SIM 3','SMS',\n                         'Screen Protection','Screen to Body Ratio (claimed by the brand)',\n                         'Sensor','Software Based Aperture', 'Special Features',\n                         'Standby time','Stylus','TalkTime', 'USB Type-C',\n                         'Video Player', 'Video Recording Features','Waterproof',\n                         'Wireless Charging','USB OTG Support', 'Video Recording','Java']\n\n    columns_to_retain = list(set(data.columns)-set(columns_to_remove))\n    data = data[columns_to_retain]\n\n    #Features having very low variance \n    columns_to_remove = ['Architecture','Audio Jack','GPS','Loudspeaker','Network','Network Support','VoLTE']\n    columns_to_retain = list(set(data.columns)-set(columns_to_remove))\n    data = data[columns_to_retain]\n\n    # Multivalued:\n    columns_to_remove = ['Architecture','Launch Date','Audio Jack','GPS','Loudspeaker','Network','Network Support','VoLTE', 'Custom UI']\n    columns_to_retain = list(set(data.columns)-set(columns_to_remove))\n    data = data[columns_to_retain]\n\n    # Not much important\n    columns_to_remove = ['Bluetooth', 'Settings','Wi-Fi','Wi-Fi Features']\n    columns_to_retain = list(set(data.columns)-set(columns_to_remove))\n    data = data[columns_to_retain]\n    \n    return data",
      "execution_count": null,
      "outputs": []
    },
    {
      "metadata": {
        "trusted": true,
        "_uuid": "938276debb2f073fec7f8ac10c51e71e07ab1797"
      },
      "cell_type": "code",
      "source": "train = data_clean(train)\ntest = data_clean(test)",
      "execution_count": null,
      "outputs": []
    },
    {
      "metadata": {
        "trusted": true,
        "_uuid": "36fea65608ce48961ce770d37eb74e1e2a9b1677"
      },
      "cell_type": "code",
      "source": "train = train[(train.isnull().sum(axis=1) <= 15)]\n# You shouldn't remove data points from test set\n#test = test[(test.isnull().sum(axis=1) <= 15)]",
      "execution_count": null,
      "outputs": []
    },
    {
      "metadata": {
        "trusted": true,
        "_uuid": "6cf8b3af5bf1d78cfce2529031b74122e496543f"
      },
      "cell_type": "code",
      "source": "# check the number of features and data points in train\nprint(\"Number of data points in train: %d\" % train.shape[0])\nprint(\"Number of features in train: %d\" % train.shape[1])\n\n# check the number of features and data points in test\nprint(\"Number of data points in test: %d\" % test.shape[0])\nprint(\"Number of features in test: %d\" % test.shape[1])",
      "execution_count": null,
      "outputs": []
    },
    {
      "metadata": {
        "trusted": true,
        "_uuid": "188e42129f5d8e260c2520eb52d162aac5bf442c"
      },
      "cell_type": "code",
      "source": "def for_integer(test):\n    try:\n        test = test.strip()\n        return int(test.split(' ')[0])\n    except IOError:\n           pass\n    except ValueError:\n        pass\n    except:\n        pass\n\ndef for_string(test):\n    try:\n        test = test.strip()\n        return (test.split(' ')[0])\n    except IOError:\n        pass\n    except ValueError:\n        pass\n    except:\n        pass\n\ndef for_float(test):\n    try:\n        test = test.strip()\n        return float(test.split(' ')[0])\n    except IOError:\n        pass\n    except ValueError:\n        pass\n    except:\n        pass\ndef find_freq(test):\n    try:\n        test = test.strip()\n        test = test.split(' ')\n        if test[2][0] == '(':\n            return float(test[2][1:])\n        return float(test[2])\n    except IOError:\n        pass\n    except ValueError:\n        pass\n    except:\n        pass\n\n    \ndef for_Internal_Memory(test):\n    try:\n        test = test.strip()\n        test = test.split(' ')\n        if test[1] == 'GB':\n            return int(test[0])\n        if test[1] == 'MB':\n#             print(\"here\")\n            return (int(test[0]) * 0.001)\n    except IOError:\n           pass\n    except ValueError:\n        pass\n    except:\n        pass\n    \ndef find_freq(test):\n    try:\n        test = test.strip()\n        test = test.split(' ')\n        if test[2][0] == '(':\n            return float(test[2][1:])\n        return float(test[2])\n    except IOError:\n        pass\n    except ValueError:\n        pass\n    except:\n        pass\n",
      "execution_count": null,
      "outputs": []
    },
    {
      "metadata": {
        "trusted": true,
        "_uuid": "7d40fe10e01dd69fbc9821fe7dc39d3008dc2bad"
      },
      "cell_type": "code",
      "source": "def data_clean_2(x):\n    data = x.copy()\n    \n    data['Capacity'] = data['Capacity'].apply(for_integer)\n\n    data['Height'] = data['Height'].apply(for_float)\n    data['Height'] = data['Height'].fillna(data['Height'].mean())\n\n    data['Internal Memory'] = data['Internal Memory'].apply(for_Internal_Memory)\n\n    data['Pixel Density'] = data['Pixel Density'].apply(for_integer)\n\n    data['Internal Memory'] = data['Internal Memory'].fillna(data['Internal Memory'].median())\n    data['Internal Memory'] = data['Internal Memory'].astype(int)\n\n    data['RAM'] = data['RAM'].apply(for_integer)\n    data['RAM'] = data['RAM'].fillna(data['RAM'].median())\n    data['RAM'] = data['RAM'].astype(int)\n\n    data['Resolution'] = data['Resolution'].apply(for_integer)\n    data['Resolution'] = data['Resolution'].fillna(data['Resolution'].median())\n    data['Resolution'] = data['Resolution'].astype(int)\n\n    data['Screen Size'] = data['Screen Size'].apply(for_float)\n\n    data['Thickness'] = data['Thickness'].apply(for_float)\n    data['Thickness'] = data['Thickness'].fillna(data['Thickness'].mean())\n    data['Thickness'] = data['Thickness'].round(2)\n\n    data['Type'] = data['Type'].fillna('Li-Polymer')\n\n    data['Screen to Body Ratio (calculated)'] = data['Screen to Body Ratio (calculated)'].apply(for_float)\n    data['Screen to Body Ratio (calculated)'] = data['Screen to Body Ratio (calculated)'].fillna(data['Screen to Body Ratio (calculated)'].mean())\n    data['Screen to Body Ratio (calculated)'] = data['Screen to Body Ratio (calculated)'].round(2)\n\n    data['Width'] = data['Width'].apply(for_float)\n    data['Width'] = data['Width'].fillna(data['Width'].mean())\n    data['Width'] = data['Width'].round(2)\n\n    data['Flash'][data['Flash'].isna() == True] = \"Other\"\n\n    data['User Replaceable'][data['User Replaceable'].isna() == True] = \"Other\"\n\n    data['Num_cores'] = data['Processor'].apply(for_string)\n    data['Num_cores'][data['Num_cores'].isna() == True] = \"Other\"\n\n\n    data['Processor_frequency'] = data['Processor'].apply(find_freq)\n    #because there is one entry with 208MHz values, to convert it to GHz\n    data['Processor_frequency'][data['Processor_frequency'] > 200] = 0.208\n    data['Processor_frequency'] = data['Processor_frequency'].fillna(data['Processor_frequency'].mean())\n    data['Processor_frequency'] = data['Processor_frequency'].round(2)\n\n    data['Camera Features'][data['Camera Features'].isna() == True] = \"Other\"\n\n    #simplifyig Operating System to os_name for simplicity\n    data['os_name'] = data['Operating System'].apply(for_string)\n    data['os_name'][data['os_name'].isna() == True] = \"Other\"\n\n    data['Sim1'] = data['SIM 1'].apply(for_string)\n\n    data['SIM Size'][data['SIM Size'].isna() == True] = \"Other\"\n\n    data['Image Resolution'][data['Image Resolution'].isna() == True] = \"Other\"\n\n    data['Fingerprint Sensor'][data['Fingerprint Sensor'].isna() == True] = \"Other\"\n\n    data['Expandable Memory'][data['Expandable Memory'].isna() == True] = \"No\"\n\n    data['Weight'] = data['Weight'].apply(for_integer)\n    data['Weight'] = data['Weight'].fillna(data['Weight'].mean())\n    data['Weight'] = data['Weight'].astype(int)\n\n    data['SIM 2'] = data['SIM 2'].apply(for_string)\n    data['SIM 2'][data['SIM 2'].isna() == True] = \"Other\"\n    \n    return data",
      "execution_count": null,
      "outputs": []
    },
    {
      "metadata": {
        "trusted": true,
        "_uuid": "a2be5bd7ff978231f6bd616544a125d0ca550dfb"
      },
      "cell_type": "code",
      "source": "train = data_clean_2(train)\ntest = data_clean_2(test)\n\n# check the number of features and data points in train\nprint(\"Number of data points in train: %d\" % train.shape[0])\nprint(\"Number of features in train: %d\" % train.shape[1])\n\n# check the number of features and data points in test\nprint(\"Number of data points in test: %d\" % test.shape[0])\nprint(\"Number of features in test: %d\" % test.shape[1])",
      "execution_count": null,
      "outputs": []
    },
    {
      "metadata": {
        "trusted": true,
        "_uuid": "a52dda0cc0fda6a137bdc82bfc38289f582eb2db"
      },
      "cell_type": "code",
      "source": "def data_clean_3(x):\n    \n    data = x.copy()\n\n    columns_to_remove = ['User Available Storage','SIM Size','Chipset','Processor','Autofocus','Aspect Ratio','Touch Screen',\n                        'Bezel-less display','Operating System','SIM 1','USB Connectivity','Other Sensors','Graphics','FM Radio',\n                        'NFC','Shooting Modes','Browser','Display Colour' ]\n\n    columns_to_retain = list(set(data.columns)-set(columns_to_remove))\n    data = data[columns_to_retain]\n\n\n    columns_to_remove = [ 'Screen Resolution','User Replaceable','Camera Features',\n                        'Thickness', 'Display Type']\n\n    columns_to_retain = list(set(data.columns)-set(columns_to_remove))\n    data = data[columns_to_retain]\n\n\n    columns_to_remove = ['Fingerprint Sensor', 'Flash', 'Rating Count', 'Review Count','Image Resolution','Type','Expandable Memory',\\\n                        'Colours','Width','Model']\n    columns_to_retain = list(set(data.columns)-set(columns_to_remove))\n    data = data[columns_to_retain]\n\n    return data",
      "execution_count": null,
      "outputs": []
    },
    {
      "metadata": {
        "trusted": true,
        "_uuid": "81396c3297b3ee0f9adf639e45e903d586c36b36"
      },
      "cell_type": "code",
      "source": "train = data_clean_3(train)\ntest = data_clean_3(test)\n\n# check the number of features and data points in train\nprint(\"Number of data points in train: %d\" % train.shape[0])\nprint(\"Number of features in train: %d\" % train.shape[1])\n\n# check the number of features and data points in test\nprint(\"Number of data points in test: %d\" % test.shape[0])\nprint(\"Number of features in test: %d\" % test.shape[1])",
      "execution_count": null,
      "outputs": []
    },
    {
      "metadata": {
        "trusted": true,
        "_uuid": "aa6c355b9d112d534c8432e689b331bff2841142"
      },
      "cell_type": "code",
      "source": "# one hot encoding\n\ntrain_ids = train['PhoneId']\ntest_ids = test['PhoneId']\n\ncols = list(test.columns)\ncols.remove('PhoneId')\ncols.insert(0, 'PhoneId')\n\ncombined = pd.concat([train.drop('Rating', axis=1)[cols], test[cols]])\nprint(combined.shape)\nprint(combined.columns)\n\ncombined = pd.get_dummies(combined)\nprint(combined.shape)\nprint(combined.columns)\n\ntrain_new = combined[combined['PhoneId'].isin(train_ids)]\ntest_new = combined[combined['PhoneId'].isin(test_ids)]",
      "execution_count": null,
      "outputs": []
    },
    {
      "metadata": {
        "trusted": true,
        "_uuid": "1cf0544b022ed7cf42ae83a52a24212015986b76"
      },
      "cell_type": "code",
      "source": "train_new = train_new.merge(train[['PhoneId', 'Rating']], on='PhoneId')",
      "execution_count": null,
      "outputs": []
    },
    {
      "metadata": {
        "trusted": true,
        "_uuid": "033961a6be66b7d334d0e9e8364cc207351e3fc2"
      },
      "cell_type": "code",
      "source": "# check the number of features and data points in train\nprint(\"Number of data points in train: %d\" % train_new.shape[0])\nprint(\"Number of features in train: %d\" % train_new.shape[1])\n\n# check the number of features and data points in test\nprint(\"Number of data points in test: %d\" % test_new.shape[0])\nprint(\"Number of features in test: %d\" % test_new.shape[1])",
      "execution_count": null,
      "outputs": []
    },
    {
      "metadata": {
        "trusted": true,
        "_uuid": "0ca393889855861c5fb3a6721c94027a3f5a124e"
      },
      "cell_type": "code",
      "source": "train_new['Rating'] = train_new['Rating'].map(lambda x: 0 if x < 3.4 else 1)",
      "execution_count": null,
      "outputs": []
    },
    {
      "metadata": {
        "trusted": true,
        "_uuid": "a4ef0ea55647da8457dd144af8b12b2537dec536"
      },
      "cell_type": "code",
      "source": "X = train_new.drop('Rating', axis=1)",
      "execution_count": null,
      "outputs": []
    },
    {
      "metadata": {
        "trusted": true,
        "_uuid": "29de2eee4fef6e998d3884c7aa85f1245c77bbbe"
      },
      "cell_type": "code",
      "source": "Y = train_new['Rating']",
      "execution_count": null,
      "outputs": []
    },
    {
      "metadata": {
        "trusted": true,
        "_uuid": "d475530ab29d47584159ab800537bb2d4b5781b5"
      },
      "cell_type": "code",
      "source": "X_binarised_train = train_new.apply(pd.cut, bins=2, labels=[0,1])",
      "execution_count": null,
      "outputs": []
    },
    {
      "metadata": {
        "trusted": true,
        "_uuid": "4f38e61bf606914096c33e1a8edeb187dd8370d8"
      },
      "cell_type": "code",
      "source": "X_binarised_test = test_new.apply(pd.cut, bins=2, labels=[0,1])",
      "execution_count": null,
      "outputs": []
    },
    {
      "metadata": {
        "trusted": true,
        "_uuid": "81748f43a080da5b7c1ec2b02e6aa09b37eaa368"
      },
      "cell_type": "code",
      "source": "X_binarised_test = X_binarised_test.values\nX_binarised_train = X_binarised_train.values",
      "execution_count": null,
      "outputs": []
    },
    {
      "metadata": {
        "trusted": true,
        "_uuid": "62c85cd0babfe534c7fd6c35c32c689d854c1606"
      },
      "cell_type": "code",
      "source": "from random import randint",
      "execution_count": null,
      "outputs": []
    },
    {
      "metadata": {
        "trusted": true,
        "_uuid": "3e6bbe644b406fb3ebdc4015ca6a9adbcb0228b1"
      },
      "cell_type": "code",
      "source": "class MPNeuron:\n  \n  def __init__(self):\n    self.b = None\n    \n  def model(self, x):\n    return(sum(x) >= self.b)\n  \n  def predict(self, X):\n    Y = []\n    for x in X:\n      result = self.model(x)\n      Y.append(result)\n    return np.array(Y)\n  \n  def fit(self, X, Y):\n    accuracy = {}\n    \n    for b in range(X.shape[1] + 1):\n      self.b = b\n      Y_pred = self.predict(X)\n      accuracy[b] = accuracy_score(Y_pred, Y)\n      \n    best_b = max(accuracy, key = accuracy.get)\n    self.b = best_b\n    ",
      "execution_count": null,
      "outputs": []
    },
    {
      "metadata": {
        "trusted": true,
        "_uuid": "c04977cb78acaa038ed6cb227b0e0f1a896e7f1d"
      },
      "cell_type": "code",
      "source": "mp_neuron = MPNeuron()\nmp_neuron.fit(X_binarised_train, Y)",
      "execution_count": null,
      "outputs": []
    },
    {
      "metadata": {
        "trusted": true,
        "_uuid": "bfdc4c250d736b9105a0b9886607e973945b00b5"
      },
      "cell_type": "code",
      "source": "Y_test_pred = mp_neuron.predict(X_binarised_test)\nY_test_pred = Y_test_pred.astype(int)",
      "execution_count": null,
      "outputs": []
    },
    {
      "metadata": {
        "trusted": true,
        "_uuid": "7b24f7367e01e9835cc7f49b469ea63f1d9b0120"
      },
      "cell_type": "code",
      "source": "submission = pd.DataFrame({'PhoneId':test_new['PhoneId'], 'Class':Y_test_pred})\nsubmission = submission[['PhoneId', 'Class']]\nsubmission.head()\nsubmission.to_csv(\"submission.csv\", index=False)",
      "execution_count": null,
      "outputs": []
    },
    {
      "metadata": {
        "trusted": true,
        "_uuid": "62616260515f199ae799d0ba045cf87f6c2e20bd"
      },
      "cell_type": "code",
      "source": "",
      "execution_count": null,
      "outputs": []
    },
    {
      "metadata": {
        "trusted": true,
        "_uuid": "6e71ef8f5524ebc243cca56e803f5b4270480725"
      },
      "cell_type": "code",
      "source": "",
      "execution_count": null,
      "outputs": []
    }
  ],
  "metadata": {
    "kernelspec": {
      "display_name": "Python 3",
      "language": "python",
      "name": "python3"
    },
    "language_info": {
      "name": "python",
      "version": "3.6.6",
      "mimetype": "text/x-python",
      "codemirror_mode": {
        "name": "ipython",
        "version": 3
      },
      "pygments_lexer": "ipython3",
      "nbconvert_exporter": "python",
      "file_extension": ".py"
    }
  },
  "nbformat": 4,
  "nbformat_minor": 1
}